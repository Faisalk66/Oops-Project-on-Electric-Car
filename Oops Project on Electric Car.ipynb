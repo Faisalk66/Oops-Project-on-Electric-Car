{
 "cells": [
  {
   "cell_type": "code",
   "execution_count": 1,
   "id": "54238c57",
   "metadata": {},
   "outputs": [],
   "source": [
    "class car:\n",
    "    def __init__(self,name,brand,odometer=0):\n",
    "        self.car_name = name\n",
    "        self.brand_name = brand\n",
    "        self.odometer = odometer\n",
    "    \n",
    "    \n",
    "class Electric(car):\n",
    "    def __init__(self,battery_charged,name,brand):\n",
    "        self.battery_charged= battery_charged\n",
    "        car.__init__(self,name,brand)\n",
    "       \n",
    "    \n",
    "    def reamining_battery(self,charge):\n",
    "        self.battery_charged = charge\n",
    "        \n",
    "    def odometer_update(self,kms):\n",
    "        if kms >= self.odometer:\n",
    "            self.odometer = kms\n",
    "            charge_consumed = (1/10)*kms\n",
    "            remaining = self.battery_charged-charge_consumed\n",
    "            \n",
    "            self.reamining_battery(remaining)\n",
    "            return self.odometer, self.battery_charged\n",
    "        \n",
    "        else:\n",
    "            return self.odometer\n",
    "        \n",
    "    def distance_can_be_covered(self):\n",
    "        distance = self.battery_charged * 10\n",
    "        print(f'Your {self.car_name} can travel upto {distance} kms.')\n",
    "        return distance\n",
    "    \n",
    "    def charging_time(self,time,Battery_full=400):\n",
    "        charge = 2*time\n",
    "        self.battery_charged = charge + self.battery_charged\n",
    "        print (f'Battery Charge is {self.battery_charged} kwh') "
   ]
  },
  {
   "cell_type": "code",
   "execution_count": 2,
   "id": "c26d27b0",
   "metadata": {},
   "outputs": [],
   "source": [
    "t1 = Electric(300,'Jarvis','Tesla')"
   ]
  },
  {
   "cell_type": "code",
   "execution_count": 3,
   "id": "d506c55a",
   "metadata": {},
   "outputs": [
    {
     "data": {
      "text/plain": [
       "'Jarvis'"
      ]
     },
     "execution_count": 3,
     "metadata": {},
     "output_type": "execute_result"
    }
   ],
   "source": [
    "t1.car_name"
   ]
  },
  {
   "cell_type": "code",
   "execution_count": 4,
   "id": "081f79c1",
   "metadata": {},
   "outputs": [
    {
     "data": {
      "text/plain": [
       "'Tesla'"
      ]
     },
     "execution_count": 4,
     "metadata": {},
     "output_type": "execute_result"
    }
   ],
   "source": [
    "t1.brand_name"
   ]
  },
  {
   "cell_type": "code",
   "execution_count": 5,
   "id": "93097020",
   "metadata": {},
   "outputs": [
    {
     "data": {
      "text/plain": [
       "0"
      ]
     },
     "execution_count": 5,
     "metadata": {},
     "output_type": "execute_result"
    }
   ],
   "source": [
    "t1.odometer"
   ]
  },
  {
   "cell_type": "code",
   "execution_count": 6,
   "id": "5e7cccab",
   "metadata": {},
   "outputs": [
    {
     "data": {
      "text/plain": [
       "300"
      ]
     },
     "execution_count": 6,
     "metadata": {},
     "output_type": "execute_result"
    }
   ],
   "source": [
    "t1.battery_charged"
   ]
  },
  {
   "cell_type": "code",
   "execution_count": 7,
   "id": "24d6b4b5",
   "metadata": {},
   "outputs": [],
   "source": [
    "odo,remaining = t1.odometer_update(20)"
   ]
  },
  {
   "cell_type": "code",
   "execution_count": 8,
   "id": "2abb9c27",
   "metadata": {},
   "outputs": [
    {
     "data": {
      "text/plain": [
       "298.0"
      ]
     },
     "execution_count": 8,
     "metadata": {},
     "output_type": "execute_result"
    }
   ],
   "source": [
    "remaining"
   ]
  },
  {
   "cell_type": "code",
   "execution_count": 9,
   "id": "07b9e26d",
   "metadata": {},
   "outputs": [
    {
     "data": {
      "text/plain": [
       "20"
      ]
     },
     "execution_count": 9,
     "metadata": {},
     "output_type": "execute_result"
    }
   ],
   "source": [
    "odo"
   ]
  },
  {
   "cell_type": "code",
   "execution_count": 10,
   "id": "9ac68873",
   "metadata": {},
   "outputs": [
    {
     "name": "stdout",
     "output_type": "stream",
     "text": [
      "Your Jarvis can travel upto 2980.0 kms.\n"
     ]
    },
    {
     "data": {
      "text/plain": [
       "2980.0"
      ]
     },
     "execution_count": 10,
     "metadata": {},
     "output_type": "execute_result"
    }
   ],
   "source": [
    "t1.distance_can_be_covered()"
   ]
  },
  {
   "cell_type": "code",
   "execution_count": 11,
   "id": "8800305b",
   "metadata": {},
   "outputs": [
    {
     "name": "stdout",
     "output_type": "stream",
     "text": [
      "Battery Charge is 418.0 kwh\n"
     ]
    }
   ],
   "source": [
    "t1.charging_time(60)"
   ]
  },
  {
   "cell_type": "code",
   "execution_count": 12,
   "id": "493a0da4",
   "metadata": {},
   "outputs": [
    {
     "data": {
      "text/plain": [
       "418.0"
      ]
     },
     "execution_count": 12,
     "metadata": {},
     "output_type": "execute_result"
    }
   ],
   "source": [
    "t1.battery_charged"
   ]
  },
  {
   "cell_type": "code",
   "execution_count": 13,
   "id": "f3e49738",
   "metadata": {},
   "outputs": [
    {
     "name": "stdout",
     "output_type": "stream",
     "text": [
      "Your Jarvis can travel upto 4180.0 kms.\n"
     ]
    },
    {
     "data": {
      "text/plain": [
       "4180.0"
      ]
     },
     "execution_count": 13,
     "metadata": {},
     "output_type": "execute_result"
    }
   ],
   "source": [
    "t1.distance_can_be_covered()"
   ]
  },
  {
   "cell_type": "code",
   "execution_count": null,
   "id": "47296a40",
   "metadata": {},
   "outputs": [],
   "source": []
  },
  {
   "cell_type": "code",
   "execution_count": null,
   "id": "04d7cc1c",
   "metadata": {},
   "outputs": [],
   "source": []
  }
 ],
 "metadata": {
  "kernelspec": {
   "display_name": "Python 3",
   "language": "python",
   "name": "python3"
  },
  "language_info": {
   "codemirror_mode": {
    "name": "ipython",
    "version": 3
   },
   "file_extension": ".py",
   "mimetype": "text/x-python",
   "name": "python",
   "nbconvert_exporter": "python",
   "pygments_lexer": "ipython3",
   "version": "3.8.8"
  }
 },
 "nbformat": 4,
 "nbformat_minor": 5
}
